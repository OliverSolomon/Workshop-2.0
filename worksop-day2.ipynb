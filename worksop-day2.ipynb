{
 "cells": [
  {
   "cell_type": "markdown",
   "metadata": {},
   "source": [
    "# Functions in Python"
   ]
  },
  {
   "cell_type": "code",
   "execution_count": null,
   "metadata": {},
   "outputs": [
    {
     "name": "stdout",
     "output_type": "stream",
     "text": [
      "Welcome to Elden Ring; This is the most fascinating game of our time\n"
     ]
    }
   ],
   "source": [
    "text = \"Welcome to Elden Ring; This is the most fascinating game of our time\"\n",
    "print(text)\n"
   ]
  },
  {
   "cell_type": "code",
   "execution_count": null,
   "metadata": {},
   "outputs": [
    {
     "name": "stdout",
     "output_type": "stream",
     "text": [
      "This is my value for PI:oliver\n"
     ]
    }
   ],
   "source": [
    "# converts integers into strings (numbers to text)\n",
    "number = 3.142\n",
    "\n",
    "name = \"OLIVER\"\n",
    "\n",
    "print(\"This is my value for PI:\" )"
   ]
  },
  {
   "cell_type": "markdown",
   "metadata": {},
   "source": [
    "# Custom functions"
   ]
  },
  {
   "cell_type": "code",
   "execution_count": 20,
   "metadata": {},
   "outputs": [
    {
     "name": "stdout",
     "output_type": "stream",
     "text": [
      "Hello, Irene!\n"
     ]
    }
   ],
   "source": [
    "def greet_person(name):\n",
    "    print(\"Hello, \" + name + \"!\")\n",
    "\n",
    "greet_person(\"Irene\")"
   ]
  },
  {
   "cell_type": "markdown",
   "metadata": {},
   "source": [
    "# Parameters"
   ]
  },
  {
   "cell_type": "code",
   "execution_count": null,
   "metadata": {},
   "outputs": [],
   "source": [
    "def greet(name):\n",
    "    print(\"Hello, World!\" + name)\n",
    "\n",
    "greet(\"Alice\")\n"
   ]
  },
  {
   "cell_type": "code",
   "execution_count": 22,
   "metadata": {},
   "outputs": [
    {
     "name": "stdout",
     "output_type": "stream",
     "text": [
      "47\n"
     ]
    }
   ],
   "source": [
    "# Function to add numbers\n",
    "\n",
    "def ongeza_nambari():\n",
    "    print(23+24)\n",
    "\n",
    "\n",
    "ongeza_nambari()"
   ]
  },
  {
   "cell_type": "code",
   "execution_count": 33,
   "metadata": {},
   "outputs": [
    {
     "name": "stdout",
     "output_type": "stream",
     "text": [
      "8\n",
      "This is our result None\n"
     ]
    }
   ],
   "source": [
    "def add(a, b):\n",
    "    print(a+b)\n",
    "\n",
    "sum_of_numbers = add(5,3)\n",
    "\n",
    "\n",
    "print(\"This is our result \" + str(sum_of_numbers))"
   ]
  },
  {
   "cell_type": "markdown",
   "metadata": {},
   "source": [
    "# Return Statement"
   ]
  },
  {
   "cell_type": "code",
   "execution_count": 46,
   "metadata": {},
   "outputs": [
    {
     "name": "stdout",
     "output_type": "stream",
     "text": [
      "5\n"
     ]
    }
   ],
   "source": [
    "def toa(a,b):\n",
    "    return(a-b)\n",
    "\n",
    "remaining = toa(10,5)\n",
    "\n",
    "print(remaining)"
   ]
  },
  {
   "cell_type": "code",
   "execution_count": null,
   "metadata": {},
   "outputs": [
    {
     "data": {
      "text/plain": [
       "26"
      ]
     },
     "execution_count": 63,
     "metadata": {},
     "output_type": "execute_result"
    }
   ],
   "source": [
    "import random \n",
    "\n",
    "random.randint(23, 40)\n"
   ]
  },
  {
   "cell_type": "markdown",
   "metadata": {},
   "source": [
    "# BMI calculator using functions\n"
   ]
  },
  {
   "cell_type": "code",
   "execution_count": null,
   "metadata": {},
   "outputs": [
    {
     "name": "stdout",
     "output_type": "stream",
     "text": [
      "This is filler text\n",
      "This is filler text\n",
      "This is filler text\n",
      "This is filler text\n",
      "This is filler text\n",
      "This is filler text\n",
      "This is filler text\n",
      "This is filler text\n"
     ]
    },
    {
     "data": {
      "text/plain": [
       "35.55555555555556"
      ]
     },
     "execution_count": 67,
     "metadata": {},
     "output_type": "execute_result"
    }
   ],
   "source": [
    "def bmi_calc(mass, height):\n",
    "    bmi = mass / height ** 2\n",
    "    return bmi\n",
    "\n"
   ]
  }
 ],
 "metadata": {
  "language_info": {
   "name": "python"
  }
 },
 "nbformat": 4,
 "nbformat_minor": 2
}
