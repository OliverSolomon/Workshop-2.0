{
  "cells": [
    {
      "cell_type": "markdown",
      "metadata": {
        "id": "ODgawdIx6DG-"
      },
      "source": [
        " # Introduction\n",
        "\n",
        " ### Why Software\n",
        "\n",
        " ### Git, Github\n",
        "\n",
        "* creating a repository:\n",
        "  * Workshop Repository : https://github.com/OliverSolomon/Workshop-2.0.git\n",
        "\n"
      ]
    },
    {
      "cell_type": "markdown",
      "metadata": {
        "id": "EaqVjpKx4X0N"
      },
      "source": [
        "# Introduction to Python\n",
        "\n",
        "### What is Python?\n",
        "\n",
        "*   general-purpose programming language.\n",
        "*   code readability.\n",
        "\n",
        "### Why is Python Popular?\n",
        "* versatility,\n",
        "* readability,\n",
        "* commununity\n",
        "\n",
        "web development, data science, machine learning,\n",
        "\n",
        "\n"
      ]
    },
    {
      "cell_type": "code",
      "execution_count": 2,
      "metadata": {
        "colab": {
          "base_uri": "https://localhost:8080/"
        },
        "id": "SBGrunMT5oJu",
        "outputId": "b66a149d-6538-4c10-a595-98f2be1e06ff"
      },
      "outputs": [
        {
          "name": "stdout",
          "output_type": "stream",
          "text": [
            "Alice\n"
          ]
        }
      ],
      "source": [
        "name = \"Alice\"\n",
        "age = 30\n",
        "\n",
        "print(name)"
      ]
    },
    {
      "cell_type": "markdown",
      "metadata": {
        "id": "XUvMBqKh6boQ"
      },
      "source": [
        "# Buzzwords\n",
        "\n",
        "* Algorithm\n",
        "* Debugging\n"
      ]
    },
    {
      "cell_type": "markdown",
      "metadata": {
        "id": "KnDoOfwp6o8S"
      },
      "source": [
        "# Data Types\n"
      ]
    },
    {
      "cell_type": "markdown",
      "metadata": {
        "id": "rdzZ6E4q6xVX"
      },
      "source": [
        "* String()\n",
        "* Variables\n",
        "\n",
        "\n"
      ]
    },
    {
      "cell_type": "code",
      "execution_count": 3,
      "metadata": {
        "colab": {
          "base_uri": "https://localhost:8080/"
        },
        "id": "_yt8Xbp8792M",
        "outputId": "af6a440d-2473-48da-ca73-4f5636ff98f5"
      },
      "outputs": [
        {
          "name": "stdout",
          "output_type": "stream",
          "text": [
            "Number of students: 25\n",
            "Student name: Bob\n",
            "Average grade: 85.5\n",
            "Is enrolled: True\n",
            "Updated student name: Charlie\n",
            "Total points: 2137.5\n"
          ]
        }
      ],
      "source": [
        "# Example 1: Integer variable\n",
        "number_of_students = 25\n",
        "print(\"Number of students:\", number_of_students)\n",
        "\n",
        "# Example 2: String variable\n",
        "student_name = \"Bob\"\n",
        "print(\"Student name:\", student_name)\n",
        "\n",
        "\n",
        "# Example 3: Float variable\n",
        "average_grade = 85.5\n",
        "print(\"Average grade:\", average_grade)\n",
        "\n",
        "# Example 4: Boolean variable\n",
        "is_enrolled = True\n",
        "print(\"Is enrolled:\", is_enrolled)\n",
        "\n",
        "# Example 5: Changing a variable's value\n",
        "student_name = \"Charlie\"  # Now, student_name holds a different value.\n",
        "print(\"Updated student name:\", student_name)\n",
        "\n",
        "# Example 6: Using variables in calculations\n",
        "total_points = number_of_students * average_grade\n",
        "print(\"Total points:\", total_points)\n"
      ]
    },
    {
      "cell_type": "markdown",
      "metadata": {
        "id": "OcH2117P8RqF"
      },
      "source": [
        "## Concatenation"
      ]
    },
    {
      "cell_type": "code",
      "execution_count": 4,
      "metadata": {
        "colab": {
          "base_uri": "https://localhost:8080/"
        },
        "id": "_mbXditY8mzq",
        "outputId": "21abb045-fb17-4e4c-cae6-b2bdf335696e"
      },
      "outputs": [
        {
          "name": "stdout",
          "output_type": "stream",
          "text": [
            "Hello World\n",
            "I am 30 years old.\n"
          ]
        }
      ],
      "source": [
        "\n",
        "# Concatenating strings\n",
        "string1 = \"Hello\"\n",
        "string2 = \"World\"\n",
        "concatenated_string = string1 + \" \" + string2\n",
        "print(concatenated_string)  # Output: Hello World\n",
        "\n",
        "# Concatenating strings and numbers (requires type conversion)\n",
        "age = 30\n",
        "message = \"I am \" + str(age) + \" years old.\"\n",
        "print(message)  # Output: I am 30 years old.\n"
      ]
    },
    {
      "cell_type": "markdown",
      "metadata": {
        "id": "cG48whYv8zyn"
      },
      "source": [
        "# Methods and functions"
      ]
    },
    {
      "cell_type": "code",
      "execution_count": 5,
      "metadata": {
        "colab": {
          "base_uri": "https://localhost:8080/"
        },
        "id": "5ZJeAIRt83J-",
        "outputId": "00f29f55-aafe-47cb-ebb0-2d66fff5818e"
      },
      "outputs": [
        {
          "name": "stdout",
          "output_type": "stream",
          "text": [
            "10 <class 'str'>\n",
            "5\n",
            "20 <class 'int'>\n",
            "HELLO\n",
            "world\n",
            "Hello Python\n",
            "[1, 2, 3, 4, 5]\n",
            "[1, 6, 2, 3, 4, 5]\n",
            "[1, 6, 3, 4, 5]\n"
          ]
        }
      ],
      "source": [
        "# # Methods and functions\n",
        "\n",
        "# In Python, both methods and functions are blocks of reusable code, but they differ in how they're called and used.\n",
        "\n",
        "# **Functions:**\n",
        "# Functions are standalone blocks of code that perform a specific task. They are called directly using their name followed by parentheses.\n",
        "\n",
        "# Example of built-in functions with basic data types:\n",
        "\n",
        "# 1. `str()`\n",
        "my_number = 10\n",
        "my_string = str(my_number) # Convert an integer to a string.\n",
        "print(my_string, type(my_string))  # Output: 10 <class 'str'>\n",
        "\n",
        "# 2. `len()`\n",
        "my_string = \"Hello\"\n",
        "string_length = len(my_string)  # Get the length of a string.\n",
        "print(string_length)  # Output: 5\n",
        "\n",
        "# 3. `int()`\n",
        "my_string = \"20\"\n",
        "my_int = int(my_string) # Convert a string to an integer.\n",
        "print(my_int, type(my_int)) # Output: 20 <class 'int'>\n",
        "\n",
        "\n",
        "# **Methods:**\n",
        "# Methods are functions that are associated with an object. They are called using the dot (.) operator on the object itself.\n",
        "\n",
        "# Example of methods with strings:\n",
        "\n",
        "\n",
        "# 1. `.upper()`\n",
        "my_string = \"hello\"\n",
        "uppercase_string = my_string.upper()  # Convert a string to uppercase.\n",
        "print(uppercase_string)  # Output: HELLO\n",
        "\n",
        "# 2. `.lower()`\n",
        "my_string = \"WORLD\"\n",
        "lowercase_string = my_string.lower() # Convert a string to lowercase.\n",
        "print(lowercase_string) # Output: world\n",
        "\n",
        "# 3. `.replace()`\n",
        "my_string = \"Hello World\"\n",
        "new_string = my_string.replace(\"World\", \"Python\") # Replace part of a string.\n",
        "print(new_string)  # Output: Hello Python\n",
        "\n",
        "\n",
        "# Example of methods with Lists:\n",
        "my_list = [1, 2, 3, 4]\n",
        "\n",
        "# 1. append()\n",
        "my_list.append(5)  # adds an item to the end of the list\n",
        "print(my_list) # Output: [1, 2, 3, 4, 5]\n",
        "\n",
        "# 2. insert()\n",
        "my_list.insert(1, 6) # inserts an item at a specific index\n",
        "print(my_list) # Output: [1, 6, 2, 3, 4, 5]\n",
        "\n",
        "# 3. remove()\n",
        "my_list.remove(2) # removes the first instance of the given item\n",
        "print(my_list) # Output: [1, 6, 3, 4, 5]\n",
        "\n",
        "\n",
        "# Key differences:\n",
        "#\n",
        "# * **Calling:** Functions are called directly using their name (`function_name()`), whereas methods are called on an object using the dot notation (`object.method_name()`).\n",
        "#\n",
        "# * **Association:** Functions are not tied to any specific object, but methods are associated with an object (e.g., a string object, a list object).  The method operates on the data within that object.\n",
        "# * **Purpose:** Methods typically modify the object they're called upon or provide information about that object.  Functions may or may not operate on a specific object. They often take inputs and return a value.\n"
      ]
    },
    {
      "cell_type": "markdown",
      "metadata": {
        "id": "O1fSwGx89ZzY"
      },
      "source": [
        "# Exercise : Currency conversion"
      ]
    },
    {
      "cell_type": "markdown",
      "metadata": {
        "id": "xSmSKbT09e5s"
      },
      "source": [
        "### Conversion From USD to Kes"
      ]
    },
    {
      "cell_type": "code",
      "execution_count": 6,
      "metadata": {
        "colab": {
          "base_uri": "https://localhost:8080/"
        },
        "id": "wgFaMFAu9vsG",
        "outputId": "a95ab587-77b9-424f-e285-17b60819b103"
      },
      "outputs": [
        {
          "name": "stdout",
          "output_type": "stream",
          "text": [
            "10.0 USD is equal to 1500.00 KES\n"
          ]
        }
      ],
      "source": [
        "# Ask the user which currency they are starting with\n",
        "starting_currency = input(\"Are you converting from USD or KES? (USD/KES): \").lower()\n",
        "\n",
        "# Ask the user for the amount\n",
        "amount = float(input(\"Enter the amount: \"))\n",
        "\n",
        "# Conversion rates (approximate)\n",
        "usd_to_kes = 150  # 1 USD = 150 KES\n",
        "kes_to_usd = 1 / 150  # 1 KES = 1/150 USD\n",
        "\n",
        "# Perform the conversion based on user's choice\n",
        "if \"usd\" in starting_currency:\n",
        "    converted_amount = amount * usd_to_kes\n",
        "    converted_currency = \"KES\"\n",
        "else:\n",
        "    converted_amount = amount * kes_to_usd\n",
        "    converted_currency = \"USD\"\n",
        "\n",
        "# Print the result\n",
        "print(f\"{amount} {starting_currency.upper()} is equal to {converted_amount:.2f} {converted_currency}\")"
      ]
    },
    {
      "cell_type": "markdown",
      "metadata": {
        "id": "PQfJLiCp_Gi5"
      },
      "source": [
        "# Operators"
      ]
    },
    {
      "cell_type": "code",
      "execution_count": 7,
      "metadata": {
        "id": "eoj2nJLj_JZ7"
      },
      "outputs": [
        {
          "name": "stdout",
          "output_type": "stream",
          "text": [
            "Addition: 15\n",
            "Subtraction: 5\n",
            "Multiplication: 50\n",
            "Division: 2.0\n",
            "Floor Division: 2\n",
            "Modulus: 0\n"
          ]
        }
      ],
      "source": [
        "\n",
        "\n",
        "# Arithmetic operators\n",
        "x = 10\n",
        "y = 5\n",
        "\n",
        "print(\"Addition:\", x + y)  # Output: 15\n",
        "print(\"Subtraction:\", x - y)  # Output: 5\n",
        "print(\"Multiplication:\", x * y)  # Output: 50\n",
        "print(\"Division:\", x / y)  # Output: 2.0\n",
        "print(\"Floor Division:\", x // y)  # Output: 2 (integer division)\n",
        "print(\"Modulus:\", x % y)  # Output: 0 (remainder)\n"
      ]
    },
    {
      "cell_type": "code",
      "execution_count": 8,
      "metadata": {
        "colab": {
          "base_uri": "https://localhost:8080/"
        },
        "id": "c_fA9p4d_idX",
        "outputId": "ed94dc8e-2750-4629-b8be-179eec77a1e9"
      },
      "outputs": [
        {
          "name": "stdout",
          "output_type": "stream",
          "text": [
            "Addition assignment: 20\n"
          ]
        }
      ],
      "source": [
        "\n",
        "# Assignment operators\n",
        "z = 15\n",
        "z += 5  # Equivalent to z = z + 5\n",
        "print(\"Addition assignment:\", z)  # Output: 20\n"
      ]
    },
    {
      "cell_type": "code",
      "execution_count": 9,
      "metadata": {
        "id": "Zu8dJ5Z3_k5b"
      },
      "outputs": [
        {
          "name": "stdout",
          "output_type": "stream",
          "text": [
            "Equal to: False\n",
            "Not equal to: True\n",
            "Greater than: True\n",
            "Less than: False\n",
            "Greater than or equal to: True\n",
            "Less than or equal to: False\n"
          ]
        }
      ],
      "source": [
        "\n",
        "# Comparison operators\n",
        "print(\"Equal to:\", x == y)  # Output: False\n",
        "print(\"Not equal to:\", x != y)  # Output: True\n",
        "print(\"Greater than:\", x > y)  # Output: True\n",
        "print(\"Less than:\", x < y)  # Output: False\n",
        "print(\"Greater than or equal to:\", x >= y)  # Output: True\n",
        "print(\"Less than or equal to:\", x <= y)  # Output: False\n"
      ]
    },
    {
      "cell_type": "code",
      "execution_count": 10,
      "metadata": {
        "colab": {
          "base_uri": "https://localhost:8080/"
        },
        "id": "W7OlekuaWMZg",
        "outputId": "ce929027-f8c8-4f27-fb66-a2773d705d73"
      },
      "outputs": [
        {
          "name": "stdout",
          "output_type": "stream",
          "text": [
            "3.25\n",
            "1\n"
          ]
        }
      ],
      "source": [
        "x = 13\n",
        "y = 4\n",
        "\n",
        "a = x/y\n",
        "z = x % y\n",
        "\n",
        "print(a)\n",
        "print(z)"
      ]
    },
    {
      "cell_type": "markdown",
      "metadata": {
        "id": "5dBflK0v_pwt"
      },
      "source": [
        "# Exercise: BMI calculator"
      ]
    },
    {
      "cell_type": "code",
      "execution_count": 11,
      "metadata": {
        "id": "fcloVmtcABDf"
      },
      "outputs": [
        {
          "name": "stdout",
          "output_type": "stream",
          "text": [
            "Your BMI is: 0.022684310018903593\n"
          ]
        }
      ],
      "source": [
        "weight = float(input(\"Enter your weight in kilograms: \"))\n",
        "height = float(input(\"Enter your height in meters: \"))\n",
        "bmi = weight / (height ** 2)\n",
        "print(\"Your BMI is:\", bmi)\n"
      ]
    },
    {
      "cell_type": "markdown",
      "metadata": {
        "id": "dTYT8fwDAMuO"
      },
      "source": [
        "# Logic Operators"
      ]
    },
    {
      "cell_type": "markdown",
      "metadata": {
        "id": "4U47Bmd-AQpA"
      },
      "source": []
    },
    {
      "cell_type": "code",
      "execution_count": 12,
      "metadata": {
        "colab": {
          "base_uri": "https://localhost:8080/"
        },
        "id": "uDvB9PkjARTo",
        "outputId": "3b7f525f-ddd5-4ca8-adb3-e0dccbd9ae98"
      },
      "outputs": [
        {
          "name": "stdout",
          "output_type": "stream",
          "text": [
            "x and y: False\n",
            "x or y: True\n",
            "not x: False\n",
            "not y: True\n",
            "True\n",
            "True\n",
            "True\n"
          ]
        }
      ],
      "source": [
        "# AND operator (returns True if both operands are True)\n",
        "x = True\n",
        "y = False\n",
        "print(\"x and y:\", x and y)  # Output: False\n",
        "\n",
        "# OR operator (returns True if at least one operand is True)\n",
        "print(\"x or y:\", x or y)  # Output: True\n",
        "\n",
        "# NOT operator (inverts the truth value of an operand)\n",
        "print(\"not x:\", not x)  # Output: False\n",
        "print(\"not y:\", not y)  # Output: True\n",
        "\n",
        "\n",
        "# Combining logical operators\n",
        "a = 5\n",
        "b = 10\n",
        "c = 15\n",
        "\n",
        "print(a < b and b < c)  # Output: True (5 < 10 and 10 < 15)\n",
        "print(a > b or b < c)   # Output: True (5 > 10 is False, but 10 < 15 is True)\n",
        "print(not (a == b))     # Output: True (a is not equal to b)\n"
      ]
    },
    {
      "cell_type": "markdown",
      "metadata": {
        "id": "duwyqpjRAyb0"
      },
      "source": [
        "# If conditional"
      ]
    },
    {
      "cell_type": "code",
      "execution_count": 13,
      "metadata": {
        "id": "S1PXZZspA1do"
      },
      "outputs": [
        {
          "name": "stdout",
          "output_type": "stream",
          "text": [
            "You are an adult.\n"
          ]
        }
      ],
      "source": [
        "# Example of if-else statement\n",
        "age = 20\n",
        "\n",
        "if age >= 18:\n",
        "  print(\"You are an adult.\")\n",
        "else:\n",
        "  print(\"You are a minor.\")\n",
        "\n"
      ]
    },
    {
      "cell_type": "code",
      "execution_count": 14,
      "metadata": {
        "id": "gIETineaBGoD"
      },
      "outputs": [
        {
          "name": "stdout",
          "output_type": "stream",
          "text": [
            "B\n"
          ]
        }
      ],
      "source": [
        "# Example of if-elif-else statement\n",
        "grade = 85\n",
        "\n",
        "if grade >= 90:\n",
        "  print(\"A\")\n",
        "elif grade >= 80:\n",
        "  print(\"B\")\n",
        "elif grade >= 70:\n",
        "  print(\"C\")\n",
        "else:\n",
        "  print(\"F\")\n"
      ]
    },
    {
      "cell_type": "markdown",
      "metadata": {
        "id": "LOL6BjN1AlOx"
      },
      "source": [
        "# While loop"
      ]
    },
    {
      "cell_type": "code",
      "execution_count": 15,
      "metadata": {
        "id": "Y1Ib7i9fAp-C"
      },
      "outputs": [
        {
          "name": "stdout",
          "output_type": "stream",
          "text": [
            "0\n",
            "1\n",
            "2\n",
            "3\n"
          ]
        }
      ],
      "source": [
        "\n",
        "\n",
        "i = 0\n",
        "while i < 4:\n",
        "  print(i)\n",
        "  i += 1\n"
      ]
    },
    {
      "cell_type": "markdown",
      "metadata": {
        "id": "pya44e_dBIcs"
      },
      "source": [
        "# For Loop"
      ]
    },
    {
      "cell_type": "code",
      "execution_count": 16,
      "metadata": {
        "colab": {
          "base_uri": "https://localhost:8080/"
        },
        "id": "fOIhpZkaBX5l",
        "outputId": "ecf9b8ce-3603-4faa-902e-047b7128ac4f"
      },
      "outputs": [
        {
          "name": "stdout",
          "output_type": "stream",
          "text": [
            "H\n",
            "e\n",
            "l\n",
            "l\n",
            "o\n"
          ]
        }
      ],
      "source": [
        "# Example 1: Iterating through a string\n",
        "message = \"Hello\"\n",
        "for letter in message:\n",
        "  print(letter)\n",
        "\n"
      ]
    },
    {
      "cell_type": "markdown",
      "metadata": {
        "id": "LE_CUWDsBugR"
      },
      "source": [
        "## Using range()"
      ]
    },
    {
      "cell_type": "code",
      "execution_count": 17,
      "metadata": {
        "id": "p34Rw1TFBoiP"
      },
      "outputs": [
        {
          "name": "stdout",
          "output_type": "stream",
          "text": [
            "0\n",
            "1\n",
            "2\n",
            "3\n",
            "4\n"
          ]
        }
      ],
      "source": [
        "# Example 2: Using range() to iterate a specific number of times\n",
        "for i in range(5):  # Iterates from 0 to 4\n",
        "  print(i)\n"
      ]
    },
    {
      "cell_type": "code",
      "execution_count": 18,
      "metadata": {
        "id": "c-FWRPOUBs8f"
      },
      "outputs": [
        {
          "name": "stdout",
          "output_type": "stream",
          "text": [
            "2\n",
            "4\n",
            "6\n",
            "8\n"
          ]
        }
      ],
      "source": [
        "# Example 3: Iterating through a range with a start and step\n",
        "for i in range(2, 10, 2):  # Starts at 2, increments by 2, up to (but not including) 10\n",
        "    print(i) # Output: 2, 4, 6, 8\n"
      ]
    },
    {
      "cell_type": "markdown",
      "metadata": {
        "id": "hzrICikRB0Lo"
      },
      "source": [
        "# Lists"
      ]
    },
    {
      "cell_type": "code",
      "execution_count": 19,
      "metadata": {
        "id": "HOxmkGjWB2oG"
      },
      "outputs": [
        {
          "name": "stdout",
          "output_type": "stream",
          "text": [
            "First element: 1\n",
            "Modified list: [1, 10, 3, 4, 5]\n",
            "Sublist: [10, 3, 4]\n",
            "List after appending: [1, 10, 3, 4, 5, 6]\n",
            "List after inserting: [1, 10, 7, 3, 4, 5, 6]\n",
            "List after removing: [1, 10, 7, 4, 5, 6]\n",
            "Length of the list: 6\n",
            "4 is in the list\n",
            "Item: 1\n",
            "Item: 10\n",
            "Item: 7\n",
            "Item: 4\n",
            "Item: 5\n",
            "Item: 6\n",
            "Combined list: [1, 2, 3, 4, 5, 6]\n"
          ]
        }
      ],
      "source": [
        "\n",
        "# Creating a list\n",
        "my_list = [1, 2, 3, 4, 5]\n",
        "\n",
        "# Accessing elements\n",
        "first_element = my_list[0]  # Access the first element (index 0)\n",
        "print(\"First element:\", first_element)\n",
        "\n",
        "# Modifying elements\n",
        "my_list[1] = 10  # Change the second element\n",
        "print(\"Modified list:\", my_list)\n",
        "\n",
        "# Slicing\n",
        "sub_list = my_list[1:4]  # Create a sublist from index 1 up to (but not including) index 4\n",
        "print(\"Sublist:\", sub_list)\n",
        "\n",
        "# Appending elements\n",
        "my_list.append(6)  # Add 6 to the end\n",
        "print(\"List after appending:\", my_list)\n",
        "\n",
        "# Inserting elements\n",
        "my_list.insert(2, 7)  # Insert 7 at index 2\n",
        "print(\"List after inserting:\", my_list)\n",
        "\n",
        "# Removing elements\n",
        "my_list.remove(3)  # Remove the first occurrence of 3\n",
        "print(\"List after removing:\", my_list)\n",
        "\n",
        "# List length\n",
        "list_length = len(my_list)\n",
        "print(\"Length of the list:\", list_length)\n",
        "\n",
        "# Checking for elements\n",
        "if 4 in my_list:\n",
        "  print(\"4 is in the list\")\n",
        "\n",
        "# Iterating through a list\n",
        "for item in my_list:\n",
        "  print(\"Item:\", item)\n",
        "\n",
        "# List concatenation\n",
        "list1 = [1, 2, 3]\n",
        "list2 = [4, 5, 6]\n",
        "combined_list = list1 + list2\n",
        "print(\"Combined list:\", combined_list)\n"
      ]
    },
    {
      "cell_type": "markdown",
      "metadata": {
        "id": "4hcQ8Cz3DdHR"
      },
      "source": [
        "# Rock Paper Scissors"
      ]
    },
    {
      "cell_type": "code",
      "execution_count": 20,
      "metadata": {
        "id": "fjn3r46IDgxC"
      },
      "outputs": [
        {
          "name": "stdout",
          "output_type": "stream",
          "text": [
            "\n",
            "===== ROCK PAPER SCISSORS =====\n",
            "How to play:\n",
            "  - Rock crushes Scissors\n",
            "  - Scissors cuts Paper\n",
            "  - Paper covers Rock\n",
            "===============================\n",
            "\n",
            "\n",
            "You chose: Rock\n",
            "Computer chose: Paper\n",
            "Computer wins!\n",
            "\n",
            "SCORE: You 0 - 1 Computer (Ties: 0)\n",
            "=====================================\n",
            "\n",
            "\n",
            "You chose: Paper\n",
            "Computer chose: Scissors\n",
            "Computer wins!\n",
            "\n",
            "SCORE: You 0 - 2 Computer (Ties: 0)\n",
            "=====================================\n",
            "\n",
            "\n",
            "===== GAME OVER =====\n",
            "Final Score: You 0 - 2 Computer (Ties: 0)\n",
            "The computer is the overall winner. Try again!\n",
            "\n",
            "Thanks for playing!\n"
          ]
        }
      ],
      "source": [
        "import random\n",
        "\n",
        "# Welcome message\n",
        "print(\"\\n===== ROCK PAPER SCISSORS =====\")\n",
        "print(\"How to play:\")\n",
        "print(\"  - Rock crushes Scissors\")\n",
        "print(\"  - Scissors cuts Paper\")\n",
        "print(\"  - Paper covers Rock\")\n",
        "print(\"===============================\\n\")\n",
        "\n",
        "# Initialize scores\n",
        "user_score = 0\n",
        "computer_score = 0\n",
        "ties = 0\n",
        "\n",
        "# Game loop\n",
        "playing = True\n",
        "while playing:\n",
        "    # Get user's choice\n",
        "    user_choice = input(\"Enter 'r' for Rock, 'p' for Paper, 's' for Scissors, or 'q' to quit: \").lower()\n",
        "\n",
        "    # Check if user wants to quit\n",
        "    if user_choice == 'q':\n",
        "        playing = False\n",
        "        continue\n",
        "\n",
        "    # Validate input\n",
        "    if user_choice not in ['r', 'p', 's']:\n",
        "        print(\"Invalid input! Please try again.\")\n",
        "        continue\n",
        "\n",
        "    # Convert single letter to full word for display\n",
        "    if user_choice == 'r':\n",
        "        user_full = \"Rock\"\n",
        "    elif user_choice == 'p':\n",
        "        user_full = \"Paper\"\n",
        "    else:\n",
        "        user_full = \"Scissors\"\n",
        "\n",
        "    # Computer makes a random choice\n",
        "    choices = ['r', 'p', 's']\n",
        "    computer_choice = random.choice(choices)\n",
        "\n",
        "    # Convert computer's choice to full word\n",
        "    if computer_choice == 'r':\n",
        "        computer_full = \"Rock\"\n",
        "    elif computer_choice == 'p':\n",
        "        computer_full = \"Paper\"\n",
        "    else:\n",
        "        computer_full = \"Scissors\"\n",
        "\n",
        "    # Display choices\n",
        "    print(f\"\\nYou chose: {user_full}\")\n",
        "    print(f\"Computer chose: {computer_full}\")\n",
        "\n",
        "    # Determine winner\n",
        "    if user_choice == computer_choice:\n",
        "        print(\"It's a tie!\")\n",
        "        ties += 1\n",
        "    elif (user_choice == 'r' and computer_choice == 's') or \\\n",
        "         (user_choice == 'p' and computer_choice == 'r') or \\\n",
        "         (user_choice == 's' and computer_choice == 'p'):\n",
        "        print(\"You win!\")\n",
        "        user_score += 1\n",
        "    else:\n",
        "        print(\"Computer wins!\")\n",
        "        computer_score += 1\n",
        "\n",
        "    # Display current score\n",
        "    print(f\"\\nSCORE: You {user_score} - {computer_score} Computer (Ties: {ties})\")\n",
        "    print(\"=====================================\\n\")\n",
        "\n",
        "# Show final results\n",
        "print(\"\\n===== GAME OVER =====\")\n",
        "print(f\"Final Score: You {user_score} - {computer_score} Computer (Ties: {ties})\")\n",
        "\n",
        "if user_score > computer_score:\n",
        "    print(\"Congratulations! You are the overall winner!\")\n",
        "elif computer_score > user_score:\n",
        "    print(\"The computer is the overall winner. Try again!\")\n",
        "else:\n",
        "    print(\"The match ended in a tie.\")\n",
        "\n",
        "print(\"\\nThanks for playing!\")\n"
      ]
    }
  ],
  "metadata": {
    "colab": {
      "provenance": []
    },
    "kernelspec": {
      "display_name": "Python 3",
      "name": "python3"
    },
    "language_info": {
      "codemirror_mode": {
        "name": "ipython",
        "version": 3
      },
      "file_extension": ".py",
      "mimetype": "text/x-python",
      "name": "python",
      "nbconvert_exporter": "python",
      "pygments_lexer": "ipython3",
      "version": "3.12.4"
    }
  },
  "nbformat": 4,
  "nbformat_minor": 0
}
